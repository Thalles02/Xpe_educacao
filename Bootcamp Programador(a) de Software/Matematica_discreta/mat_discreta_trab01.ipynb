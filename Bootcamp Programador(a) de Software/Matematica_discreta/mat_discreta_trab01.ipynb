{
  "nbformat": 4,
  "nbformat_minor": 0,
  "metadata": {
    "colab": {
      "provenance": []
    },
    "kernelspec": {
      "name": "python3",
      "display_name": "Python 3"
    },
    "language_info": {
      "name": "python"
    }
  },
  "cells": [
    {
      "cell_type": "code",
      "source": [
        "#implicação Se..então\n",
        "def implicacao(p, q):\n",
        "  return (not p) or q\n",
        "\n",
        "print(\"p    q    a\")\n",
        "for p in [True, False]: \n",
        "  for q in [True, False]:\n",
        "    a = implicacao(p, q)\n",
        "    print(p, q, a)"
      ],
      "metadata": {
        "id": "vGKytgPeK-GU"
      },
      "execution_count": null,
      "outputs": []
    },
    {
      "cell_type": "code",
      "source": [
        "def conjuncao(p, q):\n",
        "  return p and q\n",
        "\n",
        "print(\"p    q    r    a\")\n",
        "print(\"---------------\")\n",
        "\n",
        "for p in [True, False]:\n",
        "  for q in [True, False]:\n",
        "    for r in [True, False]:\n",
        "      a = implicacao(conjuncao(p, q), r)\n",
        "      print(p, q, r, a)"
      ],
      "metadata": {
        "id": "9zv18iHTLOW4"
      },
      "execution_count": null,
      "outputs": []
    },
    {
      "cell_type": "code",
      "source": [
        "A = {-2,0,1,4}\n",
        "B = {x for x in A if x > 0}\n",
        "B"
      ],
      "metadata": {
        "id": "uNmVo94yff_m"
      },
      "execution_count": null,
      "outputs": []
    },
    {
      "cell_type": "code",
      "source": [
        "A = {0,-1,8,34,5,3}\n",
        "B = {}\n",
        "C = {-1,9,14,36}\n",
        "D = A.intersection(B)-C\n",
        "D"
      ],
      "metadata": {
        "id": "tFPmCpfQgJc7"
      },
      "execution_count": null,
      "outputs": []
    },
    {
      "cell_type": "code",
      "source": [
        "def fun(vetor, x):\n",
        "  result = -1\n",
        "  for i in range(0, len(vetor)):\n",
        "    if vetor[i] == x:\n",
        "      result = i\n",
        "\n",
        "  return result\n",
        "\n",
        "vetor2=[0,-1,4,6,24,4,15,-3]\n",
        "fun(vetor2, -2)\n"
      ],
      "metadata": {
        "id": "kueGMMTbg7FE"
      },
      "execution_count": null,
      "outputs": []
    },
    {
      "cell_type": "code",
      "source": [
        "def func2(vetor):\n",
        "  \n",
        "  for i in range(0, len(vetor)):\n",
        "    aux = vetor[i]\n",
        "    j = i-1\n",
        "    while j>= 0 and vetor[j] > aux:\n",
        "      vetor[j+1] = vetor[j]\n",
        "      j -= 1\n",
        "\n",
        "    vetor[j+1] = aux\n",
        "\n",
        "  return vetor\n",
        "\n",
        "vetor2=[0,-1,4,6,24,4,15,-3]\n",
        "\n",
        "vec_test = func2(vetor2)\n",
        "vec_test"
      ],
      "metadata": {
        "id": "MKEWkCZah3Jm"
      },
      "execution_count": null,
      "outputs": []
    },
    {
      "cell_type": "code",
      "source": [
        "#codigo q13\n",
        "def codigo_q13(b):\n",
        "    pilha_restos = []\n",
        "\n",
        "    while b > 0:\n",
        "        resto = b % 2\n",
        "        pilha_restos.append(resto)\n",
        "        b = b // 2\n",
        "    saida = []\n",
        "    while pilha_restos:\n",
        "        saida.append(str(pilha_restos.pop()))\n",
        "    return ''.join(saida)\n",
        "\n",
        "codigo_q13(9801)"
      ],
      "metadata": {
        "id": "tYOejjP-km9b"
      },
      "execution_count": null,
      "outputs": []
    }
  ]
}